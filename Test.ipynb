{
 "cells": [
  {
   "cell_type": "code",
   "execution_count": 66,
   "id": "a0b9b491",
   "metadata": {},
   "outputs": [
    {
     "name": "stdout",
     "output_type": "stream",
     "text": [
      "1.15.5\n"
     ]
    }
   ],
   "source": [
    "import tensorflow as tf\n",
    "print(tf.__version__)"
   ]
  },
  {
   "cell_type": "code",
   "execution_count": 67,
   "id": "7583557f",
   "metadata": {},
   "outputs": [
    {
     "name": "stdout",
     "output_type": "stream",
     "text": [
      "3.7.5 (default, Dec  9 2021, 17:04:37) \n",
      "[GCC 8.4.0]\n"
     ]
    }
   ],
   "source": [
    "import sys\n",
    "print(sys.version)"
   ]
  },
  {
   "cell_type": "markdown",
   "id": "45fc7ae2",
   "metadata": {},
   "source": [
    "### Data preprocessing"
   ]
  },
  {
   "cell_type": "markdown",
   "id": "47408ce0",
   "metadata": {},
   "source": [
    "#### Dataset check"
   ]
  },
  {
   "cell_type": "code",
   "execution_count": 1,
   "id": "163eb27b",
   "metadata": {},
   "outputs": [],
   "source": [
    "import os\n",
    "import pandas as pd\n",
    "import numpy as np"
   ]
  },
  {
   "cell_type": "code",
   "execution_count": 2,
   "id": "e591db44",
   "metadata": {},
   "outputs": [
    {
     "data": {
      "text/plain": [
       "'/project/kc20230915003/src'"
      ]
     },
     "execution_count": 2,
     "metadata": {},
     "output_type": "execute_result"
    }
   ],
   "source": [
    "os.getcwd()"
   ]
  },
  {
   "cell_type": "markdown",
   "id": "d55917ef",
   "metadata": {},
   "source": [
    "##### dataset load"
   ]
  },
  {
   "cell_type": "code",
   "execution_count": 56,
   "id": "2af295c7",
   "metadata": {},
   "outputs": [],
   "source": [
    "excel_file = '/project/kc20230915003/src/1. BREAST13V5_Older.xlsx'\n",
    "\n",
    "sheet_name = 'BREAST13'\n",
    "\n",
    "csv_file_path = '/project/kc20230915003/src/breast_old.csv'\n",
    "\n",
    "df = pd.read_excel(excel_file, sheet_name=sheet_name)\n",
    "\n",
    "df.to_csv(csv_file_path, index=False)"
   ]
  },
  {
   "cell_type": "code",
   "execution_count": 2,
   "id": "88038fab",
   "metadata": {},
   "outputs": [],
   "source": [
    "csv_file_path = '/project/kc20230915003/src/breast_young_colname.csv'\n",
    "\n",
    "df_new = pd.read_csv(csv_file_path)"
   ]
  },
  {
   "cell_type": "markdown",
   "id": "18ec3f9b",
   "metadata": {},
   "source": [
    "##### comparision"
   ]
  },
  {
   "cell_type": "code",
   "execution_count": 11,
   "id": "75dd2e81",
   "metadata": {},
   "outputs": [],
   "source": [
    "compare_csv_file_path = '/project/kc20230915003/src/breast_old_colname.csv'\n",
    "\n",
    "df = pd.read_csv(compare_csv_file_path)"
   ]
  },
  {
   "cell_type": "code",
   "execution_count": 3,
   "id": "bd52e466",
   "metadata": {},
   "outputs": [],
   "source": [
    "csv_file_path = '/project/kc20230915003/src/breast_young_colname.csv'\n",
    "\n",
    "df_new = pd.read_csv(csv_file_path)"
   ]
  },
  {
   "cell_type": "code",
   "execution_count": 12,
   "id": "6beb5eb6",
   "metadata": {},
   "outputs": [
    {
     "name": "stdout",
     "output_type": "stream",
     "text": [
      "0    94.362343\n",
      "1     5.637657\n",
      "Name: All_cause_of_death, dtype: float64\n"
     ]
    }
   ],
   "source": [
    "old=df['All_cause_of_death'].value_counts(normalize=True)*100\n",
    "print(old)"
   ]
  },
  {
   "cell_type": "code",
   "execution_count": 13,
   "id": "dcd81819",
   "metadata": {},
   "outputs": [
    {
     "name": "stdout",
     "output_type": "stream",
     "text": [
      "0    96.632783\n",
      "1     3.367217\n",
      "Name: All_cause_of_death, dtype: float64\n"
     ]
    }
   ],
   "source": [
    "young=df_new['All_cause_of_death'].value_counts(normalize=True)*100\n",
    "print(young)"
   ]
  },
  {
   "cell_type": "code",
   "execution_count": 14,
   "id": "ddfb1150",
   "metadata": {},
   "outputs": [
    {
     "name": "stdout",
     "output_type": "stream",
     "text": [
      "<class 'pandas.core.frame.DataFrame'>\n",
      "RangeIndex: 1827 entries, 0 to 1826\n",
      "Data columns (total 45 columns):\n",
      " #   Column                 Non-Null Count  Dtype  \n",
      "---  ------                 --------------  -----  \n",
      " 0   TCODE                  1827 non-null   object \n",
      " 1   MCODE                  1827 non-null   int64  \n",
      " 2   AGE                    1827 non-null   int64  \n",
      " 3   T_SIZE                 1827 non-null   int64  \n",
      " 4   ER                     1827 non-null   int64  \n",
      " 5   PR                     1827 non-null   int64  \n",
      " 6   HER2                   1827 non-null   int64  \n",
      " 7   AJCC7_STAGE            1827 non-null   object \n",
      " 8   Height                 1827 non-null   int64  \n",
      " 9   Weight                 1827 non-null   int64  \n",
      " 10  BMI                    1827 non-null   int64  \n",
      " 11  Waist                  1827 non-null   int64  \n",
      " 12  SBP                    1827 non-null   int64  \n",
      " 13  DBP                    1827 non-null   int64  \n",
      " 14  Protein                1827 non-null   int64  \n",
      " 15  Hemoglobin             1827 non-null   float64\n",
      " 16  FBS                    1827 non-null   int64  \n",
      " 17  Total_cholesterol      1827 non-null   int64  \n",
      " 18  SGOT                   1827 non-null   int64  \n",
      " 19  SGPT                   1827 non-null   int64  \n",
      " 20  GGT                    1827 non-null   int64  \n",
      " 21  Triglycerides          1827 non-null   int64  \n",
      " 22  High_lipoprotein       1827 non-null   int64  \n",
      " 23  Low_lipoprotein        1827 non-null   int64  \n",
      " 24  Serum_creatine         1827 non-null   float64\n",
      " 25  EGF                    1827 non-null   int64  \n",
      " 26  smoking_status         1827 non-null   int64  \n",
      " 27  alcohol                1827 non-null   int64  \n",
      " 28  VPA                    1827 non-null   int64  \n",
      " 29  MPA                    1827 non-null   int64  \n",
      " 30  walking                1827 non-null   int64  \n",
      " 31  Atrial_fibrillation    1827 non-null   int64  \n",
      " 32  CKD                    1827 non-null   int64  \n",
      " 33  COPD                   1827 non-null   int64  \n",
      " 34  Diabetes               1827 non-null   int64  \n",
      " 35  DVT                    1827 non-null   int64  \n",
      " 36  Dyslipidaemia          1827 non-null   int64  \n",
      " 37  Heart_failure          1827 non-null   int64  \n",
      " 38  Hypertension           1827 non-null   int64  \n",
      " 39  Liver_disease          1827 non-null   int64  \n",
      " 40  Myocardial_infarction  1827 non-null   int64  \n",
      " 41  PVD                    1827 non-null   int64  \n",
      " 42  STROKE                 1827 non-null   int64  \n",
      " 43  Survival_time          1827 non-null   int64  \n",
      " 44  All_cause_of_death     1827 non-null   int64  \n",
      "dtypes: float64(2), int64(41), object(2)\n",
      "memory usage: 642.4+ KB\n"
     ]
    }
   ],
   "source": [
    "df.info()"
   ]
  },
  {
   "cell_type": "code",
   "execution_count": 68,
   "id": "2ff4d5a3",
   "metadata": {},
   "outputs": [
    {
     "name": "stdout",
     "output_type": "stream",
     "text": [
      "<class 'pandas.core.frame.DataFrame'>\n",
      "RangeIndex: 1827 entries, 0 to 1826\n",
      "Data columns (total 45 columns):\n",
      " #   Column                 Non-Null Count  Dtype  \n",
      "---  ------                 --------------  -----  \n",
      " 0   TCODE                  1827 non-null   object \n",
      " 1   MCODE                  1827 non-null   int64  \n",
      " 2   AGE                    1827 non-null   int64  \n",
      " 3   T_SIZE                 1827 non-null   int64  \n",
      " 4   ER                     1827 non-null   int64  \n",
      " 5   PR                     1827 non-null   int64  \n",
      " 6   HER2                   1827 non-null   int64  \n",
      " 7   AJCC7_STAGE            1827 non-null   object \n",
      " 8   Height                 1827 non-null   int64  \n",
      " 9   Weight                 1827 non-null   int64  \n",
      " 10  BMI                    1827 non-null   int64  \n",
      " 11  Waist                  1827 non-null   int64  \n",
      " 12  SBP                    1827 non-null   int64  \n",
      " 13  DBP                    1827 non-null   int64  \n",
      " 14  Protein                1827 non-null   int64  \n",
      " 15  Hemoglobin             1827 non-null   float64\n",
      " 16  FBS                    1827 non-null   int64  \n",
      " 17  Total_cholesterol      1827 non-null   int64  \n",
      " 18  SGOT                   1827 non-null   int64  \n",
      " 19  SGPT                   1827 non-null   int64  \n",
      " 20  GGT                    1827 non-null   int64  \n",
      " 21  Triglycerides          1827 non-null   int64  \n",
      " 22  High_lipoprotein       1827 non-null   int64  \n",
      " 23  Low_lipoprotein        1827 non-null   int64  \n",
      " 24  Serum_creatine         1827 non-null   float64\n",
      " 25  EGF                    1827 non-null   int64  \n",
      " 26  smoking_status         1827 non-null   int64  \n",
      " 27  alcohol                1827 non-null   int64  \n",
      " 28  VPA                    1827 non-null   int64  \n",
      " 29  MPA                    1827 non-null   int64  \n",
      " 30  walking                1827 non-null   int64  \n",
      " 31  Atrial_fibrillation    1827 non-null   int64  \n",
      " 32  CKD                    1827 non-null   int64  \n",
      " 33  COPD                   1827 non-null   int64  \n",
      " 34  Diabetes               1827 non-null   int64  \n",
      " 35  DVT                    1827 non-null   int64  \n",
      " 36  Dyslipidaemia          1827 non-null   int64  \n",
      " 37  Heart_failure          1827 non-null   int64  \n",
      " 38  Hypertension           1827 non-null   int64  \n",
      " 39  Liver_disease          1827 non-null   int64  \n",
      " 40  Myocardial_infarction  1827 non-null   int64  \n",
      " 41  PVD                    1827 non-null   int64  \n",
      " 42  STROKE                 1827 non-null   int64  \n",
      " 43  Survival_time          1827 non-null   int64  \n",
      " 44  All_cause_of_death     1827 non-null   int64  \n",
      "dtypes: float64(2), int64(41), object(2)\n",
      "memory usage: 642.4+ KB\n"
     ]
    }
   ],
   "source": [
    "df_new.info()"
   ]
  },
  {
   "cell_type": "code",
   "execution_count": 69,
   "id": "030208d2",
   "metadata": {},
   "outputs": [
    {
     "data": {
      "text/plain": [
       "TCODE                    0\n",
       "MCODE                    0\n",
       "AGE                      0\n",
       "T_SIZE                   0\n",
       "ER                       0\n",
       "PR                       0\n",
       "HER2                     0\n",
       "AJCC7_STAGE              0\n",
       "Height                   0\n",
       "Weight                   0\n",
       "BMI                      0\n",
       "Waist                    0\n",
       "SBP                      0\n",
       "DBP                      0\n",
       "Protein                  0\n",
       "Hemoglobin               0\n",
       "FBS                      0\n",
       "Total_cholesterol        0\n",
       "SGOT                     0\n",
       "SGPT                     0\n",
       "GGT                      0\n",
       "Triglycerides            0\n",
       "High_lipoprotein         0\n",
       "Low_lipoprotein          0\n",
       "Serum_creatine           0\n",
       "EGF                      0\n",
       "smoking_status           0\n",
       "alcohol                  0\n",
       "VPA                      0\n",
       "MPA                      0\n",
       "walking                  0\n",
       "Atrial_fibrillation      0\n",
       "CKD                      0\n",
       "COPD                     0\n",
       "Diabetes                 0\n",
       "DVT                      0\n",
       "Dyslipidaemia            0\n",
       "Heart_failure            0\n",
       "Hypertension             0\n",
       "Liver_disease            0\n",
       "Myocardial_infarction    0\n",
       "PVD                      0\n",
       "STROKE                   0\n",
       "Survival_time            0\n",
       "All_cause_of_death       0\n",
       "dtype: int64"
      ]
     },
     "execution_count": 69,
     "metadata": {},
     "output_type": "execute_result"
    }
   ],
   "source": [
    "df_new.isnull().sum()"
   ]
  },
  {
   "cell_type": "code",
   "execution_count": 4,
   "id": "befaeb17",
   "metadata": {},
   "outputs": [
    {
     "name": "stdout",
     "output_type": "stream",
     "text": [
      "(1574, 45)\n"
     ]
    }
   ],
   "source": [
    "print(df_new.shape)"
   ]
  },
  {
   "cell_type": "code",
   "execution_count": 5,
   "id": "e1c1a154",
   "metadata": {},
   "outputs": [
    {
     "name": "stdout",
     "output_type": "stream",
     "text": [
      "             MCODE          AGE       T_SIZE           ER           PR  \\\n",
      "count  1574.000000  1574.000000  1574.000000  1574.000000  1574.000000   \n",
      "mean      3.062262    44.345616    22.460610     0.994282     0.810038   \n",
      "std       0.861664     4.353571    16.439665     2.577341     1.708622   \n",
      "min       3.000000    29.000000     1.000000     0.000000     0.000000   \n",
      "25%       3.000000    42.000000    12.000000     1.000000     0.000000   \n",
      "50%       3.000000    45.000000    18.000000     1.000000     1.000000   \n",
      "75%       3.000000    48.000000    27.000000     1.000000     1.000000   \n",
      "max      17.000000    50.000000   138.000000    30.000000    30.000000   \n",
      "\n",
      "              HER2       Height       Weight          BMI        Waist  ...  \\\n",
      "count  1574.000000  1574.000000  1574.000000  1574.000000  1574.000000  ...   \n",
      "mean      0.287802   154.783990    53.500635    22.678526    70.457433  ...   \n",
      "std       0.452882     5.447347     9.223216     2.734877     8.227172  ...   \n",
      "min       0.000000   150.000000    40.000000    20.000000    60.000000  ...   \n",
      "25%       0.000000   150.000000    50.000000    20.000000    60.000000  ...   \n",
      "50%       0.000000   150.000000    50.000000    22.000000    70.000000  ...   \n",
      "75%       1.000000   160.000000    60.000000    24.000000    70.000000  ...   \n",
      "max       1.000000   170.000000    90.000000    30.000000    90.000000  ...   \n",
      "\n",
      "               DVT  Dyslipidaemia  Heart_failure  Hypertension  Liver_disease  \\\n",
      "count  1574.000000    1574.000000    1574.000000   1574.000000    1574.000000   \n",
      "mean      0.015248       0.477764       0.025413      0.166455       0.358958   \n",
      "std       0.122576       0.499664       0.157426      0.372607       0.479847   \n",
      "min       0.000000       0.000000       0.000000      0.000000       0.000000   \n",
      "25%       0.000000       0.000000       0.000000      0.000000       0.000000   \n",
      "50%       0.000000       0.000000       0.000000      0.000000       0.000000   \n",
      "75%       0.000000       1.000000       0.000000      0.000000       1.000000   \n",
      "max       1.000000       1.000000       1.000000      1.000000       1.000000   \n",
      "\n",
      "       Myocardial_infarction          PVD       STROKE  Survival_time  \\\n",
      "count            1574.000000  1574.000000  1574.000000    1574.000000   \n",
      "mean                0.001271     0.068615     0.001271    1796.965693   \n",
      "std                 0.035635     0.252879     0.035635     173.071780   \n",
      "min                 0.000000     0.000000     0.000000      31.000000   \n",
      "25%                 0.000000     0.000000     0.000000    1825.000000   \n",
      "50%                 0.000000     0.000000     0.000000    1825.000000   \n",
      "75%                 0.000000     0.000000     0.000000    1825.000000   \n",
      "max                 1.000000     1.000000     1.000000    1825.000000   \n",
      "\n",
      "       All_cause_of_death  \n",
      "count         1574.000000  \n",
      "mean             0.033672  \n",
      "std              0.180441  \n",
      "min              0.000000  \n",
      "25%              0.000000  \n",
      "50%              0.000000  \n",
      "75%              0.000000  \n",
      "max              1.000000  \n",
      "\n",
      "[8 rows x 43 columns]\n"
     ]
    }
   ],
   "source": [
    "print(df_new.describe())"
   ]
  },
  {
   "cell_type": "code",
   "execution_count": 6,
   "id": "c8883620",
   "metadata": {},
   "outputs": [
    {
     "name": "stdout",
     "output_type": "stream",
     "text": [
      "0\n"
     ]
    }
   ],
   "source": [
    "print(df_new.duplicated().sum())"
   ]
  },
  {
   "cell_type": "code",
   "execution_count": 15,
   "id": "0018deac",
   "metadata": {},
   "outputs": [
    {
     "data": {
      "text/plain": [
       "(1574, 45)"
      ]
     },
     "execution_count": 15,
     "metadata": {},
     "output_type": "execute_result"
    }
   ],
   "source": [
    "df_new.shape"
   ]
  },
  {
   "cell_type": "code",
   "execution_count": 16,
   "id": "b7f4f9df",
   "metadata": {},
   "outputs": [
    {
     "data": {
      "text/plain": [
       "(1827, 45)"
      ]
     },
     "execution_count": 16,
     "metadata": {},
     "output_type": "execute_result"
    }
   ],
   "source": [
    "df.shape"
   ]
  },
  {
   "cell_type": "code",
   "execution_count": 17,
   "id": "4a91d9e5",
   "metadata": {},
   "outputs": [
    {
     "data": {
      "text/plain": [
       "Index(['TCODE', 'MCODE', 'AGE', 'T_SIZE', 'ER', 'PR', 'HER2', 'AJCC7_STAGE',\n",
       "       'Height', 'Weight', 'BMI', 'Waist', 'SBP', 'DBP', 'Protein',\n",
       "       'Hemoglobin', 'FBS', 'Total_cholesterol', 'SGOT', 'SGPT', 'GGT',\n",
       "       'Triglycerides', 'High_lipoprotein', 'Low_lipoprotein',\n",
       "       'Serum_creatine', 'EGF', 'smoking_status', 'alcohol', 'VPA', 'MPA',\n",
       "       'walking', 'Atrial_fibrillation', 'CKD', 'COPD', 'Diabetes', 'DVT',\n",
       "       'Dyslipidaemia', 'Heart_failure', 'Hypertension', 'Liver_disease',\n",
       "       'Myocardial_infarction', 'PVD', 'STROKE', 'Survival_time',\n",
       "       'All_cause_of_death'],\n",
       "      dtype='object')"
      ]
     },
     "execution_count": 17,
     "metadata": {},
     "output_type": "execute_result"
    }
   ],
   "source": [
    "df.columns"
   ]
  },
  {
   "cell_type": "code",
   "execution_count": 18,
   "id": "26649901",
   "metadata": {},
   "outputs": [
    {
     "data": {
      "text/plain": [
       "Index(['TCODE', 'MCODE', 'AGE', 'T_SIZE', 'ER', 'PR', 'HER2', 'AJCC7_STAGE',\n",
       "       'Height', 'Weight', 'BMI', 'Waist', 'SBP', 'DBP', 'Protein',\n",
       "       'Hemoglobin', 'FBS', 'Total_cholesterol', 'SGOT', 'SGPT', 'GGT',\n",
       "       'Triglycerides', 'High_lipoprotein', 'Low_lipoprotein',\n",
       "       'Serum_creatine', 'EGF', 'smoking_status', 'alcohol', 'VPA', 'MPA',\n",
       "       'walking', 'Atrial_fibrillation', 'CKD', 'COPD', 'Diabetes', 'DVT',\n",
       "       'Dyslipidaemia', 'Heart_failure', 'Hypertension', 'Liver_disease',\n",
       "       'Myocardial_infarction', 'PVD', 'STROKE', 'Survival_time',\n",
       "       'All_cause_of_death'],\n",
       "      dtype='object')"
      ]
     },
     "execution_count": 18,
     "metadata": {},
     "output_type": "execute_result"
    }
   ],
   "source": [
    "df_new.columns"
   ]
  },
  {
   "cell_type": "markdown",
   "id": "eaa48791",
   "metadata": {},
   "source": [
    "#### Dataset encoding"
   ]
  },
  {
   "cell_type": "code",
   "execution_count": 20,
   "id": "4e51e260",
   "metadata": {},
   "outputs": [],
   "source": [
    "from sklearn.preprocessing import OneHotEncoder, LabelEncoder\n",
    "\n",
    "X= df_new[['TCODE', 'MCODE', 'AGE', 'T_SIZE', 'ER', 'PR', 'HER2', 'AJCC7_STAGE',\n",
    "           'Height', 'Weight', 'BMI', 'Waist', 'SBP', 'DBP', 'Protein',\n",
    "           'Hemoglobin', 'FBS', 'Total_cholesterol', 'SGOT', 'SGPT', 'GGT',\n",
    "           'Triglycerides', 'High_lipoprotein', 'Low_lipoprotein',\n",
    "           'Serum_creatine', 'EGF', 'smoking_status', 'alcohol', 'VPA', 'MPA',\n",
    "           'walking', 'Atrial_fibrillation', 'CKD', 'COPD', 'Diabetes', 'DVT',\n",
    "           'Dyslipidaemia', 'Heart_failure', 'Hypertension', 'Liver_disease',\n",
    "           'Myocardial_infarction', 'PVD', 'STROKE']]\n",
    "\n",
    "y=df_new[['Survival_time','All_cause_of_death']]"
   ]
  },
  {
   "cell_type": "code",
   "execution_count": 21,
   "id": "14035d11",
   "metadata": {},
   "outputs": [],
   "source": [
    "categorical_columns = ['TCODE', 'MCODE']\n",
    "\n",
    "categorical_order_columns = ['AJCC7_STAGE', 'Height', 'Weight','Waist','Protein','smoking_status','ER','PR', 'HER2', \n",
    "                             'Atrial_fibrillation','CKD', 'COPD','Diabetes', 'DVT', 'Dyslipidaemia', 'Heart_failure',\n",
    "                             'Hypertension', 'Liver_disease', 'Myocardial_infarction','PVD', 'STROKE']\n",
    "\n",
    "onehot_encoder = OneHotEncoder(sparse=False)\n",
    "\n",
    "X_encoded = pd.DataFrame(onehot_encoder.fit_transform(X[categorical_columns]))\n",
    "X_encoded.columns = onehot_encoder.get_feature_names_out(categorical_columns)\n",
    "\n",
    "X_continuous= X.drop(columns=categorical_columns)\n",
    "X=pd.concat([X_continuous, X_encoded], axis=1)\n",
    "\n",
    "label_encoder = LabelEncoder()\n",
    "\n",
    "for column in categorical_order_columns:\n",
    "    X[column]=label_encoder.fit_transform(X[column])"
   ]
  },
  {
   "cell_type": "code",
   "execution_count": 22,
   "id": "0322f787",
   "metadata": {},
   "outputs": [],
   "source": [
    "pd.set_option('display.max_rows',50)\n",
    "pd.set_option('display.max_columns',50)"
   ]
  },
  {
   "cell_type": "code",
   "execution_count": 24,
   "id": "106d1974",
   "metadata": {},
   "outputs": [
    {
     "name": "stdout",
     "output_type": "stream",
     "text": [
      "<class 'pandas.core.frame.DataFrame'>\n",
      "RangeIndex: 1574 entries, 0 to 1573\n",
      "Data columns (total 55 columns):\n",
      " #   Column                 Non-Null Count  Dtype  \n",
      "---  ------                 --------------  -----  \n",
      " 0   AGE                    1574 non-null   int64  \n",
      " 1   T_SIZE                 1574 non-null   int64  \n",
      " 2   ER                     1574 non-null   int64  \n",
      " 3   PR                     1574 non-null   int64  \n",
      " 4   HER2                   1574 non-null   int64  \n",
      " 5   AJCC7_STAGE            1574 non-null   int64  \n",
      " 6   Height                 1574 non-null   int64  \n",
      " 7   Weight                 1574 non-null   int64  \n",
      " 8   BMI                    1574 non-null   int64  \n",
      " 9   Waist                  1574 non-null   int64  \n",
      " 10  SBP                    1574 non-null   int64  \n",
      " 11  DBP                    1574 non-null   int64  \n",
      " 12  Protein                1574 non-null   int64  \n",
      " 13  Hemoglobin             1574 non-null   float64\n",
      " 14  FBS                    1574 non-null   int64  \n",
      " 15  Total_cholesterol      1574 non-null   int64  \n",
      " 16  SGOT                   1574 non-null   int64  \n",
      " 17  SGPT                   1574 non-null   int64  \n",
      " 18  GGT                    1574 non-null   int64  \n",
      " 19  Triglycerides          1574 non-null   int64  \n",
      " 20  High_lipoprotein       1574 non-null   int64  \n",
      " 21  Low_lipoprotein        1574 non-null   int64  \n",
      " 22  Serum_creatine         1574 non-null   float64\n",
      " 23  EGF                    1574 non-null   int64  \n",
      " 24  smoking_status         1574 non-null   int64  \n",
      " 25  alcohol                1574 non-null   int64  \n",
      " 26  VPA                    1574 non-null   int64  \n",
      " 27  MPA                    1574 non-null   int64  \n",
      " 28  walking                1574 non-null   int64  \n",
      " 29  Atrial_fibrillation    1574 non-null   int64  \n",
      " 30  CKD                    1574 non-null   int64  \n",
      " 31  COPD                   1574 non-null   int64  \n",
      " 32  Diabetes               1574 non-null   int64  \n",
      " 33  DVT                    1574 non-null   int64  \n",
      " 34  Dyslipidaemia          1574 non-null   int64  \n",
      " 35  Heart_failure          1574 non-null   int64  \n",
      " 36  Hypertension           1574 non-null   int64  \n",
      " 37  Liver_disease          1574 non-null   int64  \n",
      " 38  Myocardial_infarction  1574 non-null   int64  \n",
      " 39  PVD                    1574 non-null   int64  \n",
      " 40  STROKE                 1574 non-null   int64  \n",
      " 41  TCODE_C500             1574 non-null   float64\n",
      " 42  TCODE_C501             1574 non-null   float64\n",
      " 43  TCODE_C502             1574 non-null   float64\n",
      " 44  TCODE_C503             1574 non-null   float64\n",
      " 45  TCODE_C504             1574 non-null   float64\n",
      " 46  TCODE_C505             1574 non-null   float64\n",
      " 47  TCODE_C506             1574 non-null   float64\n",
      " 48  TCODE_C508             1574 non-null   float64\n",
      " 49  TCODE_C509             1574 non-null   float64\n",
      " 50  MCODE_3                1574 non-null   float64\n",
      " 51  MCODE_4                1574 non-null   float64\n",
      " 52  MCODE_5                1574 non-null   float64\n",
      " 53  MCODE_16               1574 non-null   float64\n",
      " 54  MCODE_17               1574 non-null   float64\n",
      "dtypes: float64(16), int64(39)\n",
      "memory usage: 676.5 KB\n"
     ]
    }
   ],
   "source": [
    "X.info()"
   ]
  },
  {
   "cell_type": "markdown",
   "id": "1d38f51a",
   "metadata": {},
   "source": [
    "#### Dataset split"
   ]
  },
  {
   "cell_type": "code",
   "execution_count": 25,
   "id": "10a0b639",
   "metadata": {},
   "outputs": [],
   "source": [
    "from sklearn.model_selection import train_test_split\n",
    "\n",
    "X_train, X_test, y_train, y_test = train_test_split(X, y, test_size = 0.2, random_state=42)"
   ]
  },
  {
   "cell_type": "code",
   "execution_count": 26,
   "id": "d8f291e8",
   "metadata": {},
   "outputs": [],
   "source": [
    "X_train.to_csv('/project/kc20230915003/src/X_train_young.csv', index=False)\n",
    "X_test.to_csv('/project/kc20230915003/src/X_test_young.csv' , index=False)\n",
    "y_train.to_csv('/project/kc20230915003/src/y_train_young.csv',index=False)\n",
    "y_test.to_csv('/project/kc20230915003/src/y_test_young.csv', index=False)"
   ]
  },
  {
   "cell_type": "code",
   "execution_count": 27,
   "id": "b8f95b35",
   "metadata": {},
   "outputs": [
    {
     "name": "stdout",
     "output_type": "stream",
     "text": [
      "(1259, 55)\n",
      "(315, 55)\n",
      "(1259, 2)\n",
      "(315, 2)\n"
     ]
    }
   ],
   "source": [
    "print(X_train.shape)\n",
    "print(X_test.shape)\n",
    "print(y_train.shape)\n",
    "print(y_test.shape)"
   ]
  },
  {
   "cell_type": "markdown",
   "id": "21caa8b3",
   "metadata": {},
   "source": [
    "#### Dataset structure"
   ]
  },
  {
   "cell_type": "code",
   "execution_count": 41,
   "id": "4611349d",
   "metadata": {},
   "outputs": [],
   "source": [
    "X_train =pd.read_csv('/project/kc20230915003/src/X_train_old.csv')\n",
    "X_test = pd.read_csv('/project/kc20230915003/src/X_test_old.csv')\n",
    "y_train =pd.read_csv('/project/kc20230915003/src/y_train_old.csv')\n",
    "y_test = pd.read_csv('/project/kc20230915003/src/y_test_old.csv')"
   ]
  },
  {
   "cell_type": "code",
   "execution_count": 42,
   "id": "c18a7fe3",
   "metadata": {},
   "outputs": [
    {
     "data": {
      "text/plain": [
       "Index(['Survival_time', 'All_cause_of_death'], dtype='object')"
      ]
     },
     "execution_count": 42,
     "metadata": {},
     "output_type": "execute_result"
    }
   ],
   "source": [
    "y_train.columns"
   ]
  },
  {
   "cell_type": "code",
   "execution_count": 43,
   "id": "e7cd4200",
   "metadata": {},
   "outputs": [],
   "source": [
    "new_order = ['All_cause_of_death', 'Survival_time']"
   ]
  },
  {
   "cell_type": "code",
   "execution_count": 44,
   "id": "427bcb61",
   "metadata": {},
   "outputs": [],
   "source": [
    "y_train = y_train[new_order]\n",
    "y_test = y_test[new_order]"
   ]
  },
  {
   "cell_type": "code",
   "execution_count": 45,
   "id": "0075801f",
   "metadata": {},
   "outputs": [
    {
     "data": {
      "text/plain": [
       "Index(['All_cause_of_death', 'Survival_time'], dtype='object')"
      ]
     },
     "execution_count": 45,
     "metadata": {},
     "output_type": "execute_result"
    }
   ],
   "source": [
    "y_train.columns"
   ]
  },
  {
   "cell_type": "code",
   "execution_count": 46,
   "id": "729c86cf",
   "metadata": {},
   "outputs": [],
   "source": [
    "def convert_to_structured_array(data):\n",
    "    structured_data = np.zeros(data.shape[0], dtype = {'names': ('All_cause_of_death', 'Survival_time'), 'formats': ('bool', 'f8')})\n",
    "    structured_data['All_cause_of_death'] = data['All_cause_of_death'].astype(bool)\n",
    "    structured_data['Survival_time'] = data['Survival_time'].astype(float)\n",
    "    return structured_data\n",
    "\n",
    "y_train_structured = convert_to_structured_array(y_train)\n",
    "y_test_structured = convert_to_structured_array(y_test)"
   ]
  },
  {
   "cell_type": "code",
   "execution_count": 47,
   "id": "6e364296",
   "metadata": {},
   "outputs": [
    {
     "name": "stdout",
     "output_type": "stream",
     "text": [
      "[(False, 1825.) (False, 1825.) (False, 1825.) (False, 1825.)\n",
      " (False, 1825.)]\n"
     ]
    }
   ],
   "source": [
    "print(y_train_structured[:5])"
   ]
  },
  {
   "cell_type": "markdown",
   "id": "66e9a2b5",
   "metadata": {},
   "source": [
    "### Survival mortality prediction"
   ]
  },
  {
   "cell_type": "markdown",
   "id": "cb9834e0",
   "metadata": {},
   "source": [
    "#### RSF"
   ]
  },
  {
   "cell_type": "code",
   "execution_count": 48,
   "id": "3d67bd7a",
   "metadata": {},
   "outputs": [
    {
     "name": "stdout",
     "output_type": "stream",
     "text": [
      "C-index mean: 0.7929\n",
      "C-index STD: 0.0000\n"
     ]
    }
   ],
   "source": [
    "from sksurv.ensemble import RandomSurvivalForest\n",
    "from sksurv.metrics import concordance_index_censored\n",
    "from sklearn.inspection import permutation_importance\n",
    "\n",
    "\n",
    "n_iterations = 10 \n",
    "all_results = []\n",
    "\n",
    "for i in range(n_iterations):\n",
    "    rsf = RandomSurvivalForest(n_estimators = 100, random_state = i)\n",
    "    rsf.fit(X_train, y_train_structured)\n",
    "    \n",
    "    y_pred = rsf.predict(X_test)\n",
    "    c_index = concordance_index_censored(y_test_structured['All_cause_of_death'], y_test_structured['Survival_time'], y_pred)[0]\n",
    "    \n",
    "    result = permutation_importance(rsf, X_test, y_test_structured, n_repeats=10, random_state=i)\n",
    "    feature_importances = result.importances_mean\n",
    "    features = X_train.columns\n",
    "    \n",
    "    for feature, importance in zip(features, feature_importances):\n",
    "        all_results.append({\n",
    "            \"Iteration\": i+1,\n",
    "            \"C-index\": c_index,\n",
    "            \"feature\": feature,\n",
    "            \"Importance\": importance\n",
    "        })\n",
    "        \n",
    "results_df = pd.DataFrame(all_results)\n",
    "results_df.to_csv(\"C-index_FI_rsf_old.csv\", index=False)\n",
    "\n",
    "mean_c_index = np.mean(c_index)\n",
    "std_c_index = np.std(c_index)\n",
    "\n",
    "print(f\"C-index mean: {mean_c_index:.4f}\")\n",
    "print(f\"C-index STD: {std_c_index:.4f}\")"
   ]
  },
  {
   "cell_type": "markdown",
   "id": "41d70d64",
   "metadata": {},
   "source": [
    "#### GB-Survival"
   ]
  },
  {
   "cell_type": "code",
   "execution_count": 35,
   "id": "d6727af2",
   "metadata": {},
   "outputs": [
    {
     "name": "stdout",
     "output_type": "stream",
     "text": [
      "C-index mean: 0.6665\n",
      "C-index STD: 0.0000\n"
     ]
    }
   ],
   "source": [
    "from sksurv.ensemble import GradientBoostingSurvivalAnalysis\n",
    "\n",
    "n_iterations = 10 \n",
    "all_results = []\n",
    "\n",
    "for i in range(n_iterations):\n",
    "    gb_model = GradientBoostingSurvivalAnalysis(n_estimators = 100, random_state = i)\n",
    "    gb_model.fit(X_train, y_train_structured)\n",
    "    \n",
    "    y_pred = gb_model.predict(X_test)\n",
    "    c_index = concordance_index_censored(y_test_structured['All_cause_of_death'], y_test_structured['Survival_time'], y_pred)[0]\n",
    "    \n",
    "    feature_importances = gb_model.feature_importances_\n",
    "    features = X_train.columns\n",
    "    \n",
    "    for feature, importance in zip(features, feature_importances):\n",
    "        all_results.append({\n",
    "            \"Iteration\": i+1,\n",
    "            \"C-index\": c_index,\n",
    "            \"feature\": feature,\n",
    "            \"Importance\": importance\n",
    "        })\n",
    "        \n",
    "results_df = pd.DataFrame(all_results)\n",
    "results_df.to_csv(\"C-index_FI_gb-survival_young_2.csv\", index=False)\n",
    "\n",
    "mean_c_index = np.mean(c_index)\n",
    "std_c_index = np.std(c_index)\n",
    "\n",
    "print(f\"C-index mean: {mean_c_index:.4f}\")\n",
    "print(f\"C-index STD: {std_c_index:.4f}\")"
   ]
  },
  {
   "cell_type": "markdown",
   "id": "0ce6b773",
   "metadata": {},
   "source": [
    "#### EST"
   ]
  },
  {
   "cell_type": "code",
   "execution_count": 36,
   "id": "ddb08ecc",
   "metadata": {},
   "outputs": [
    {
     "name": "stdout",
     "output_type": "stream",
     "text": [
      "C-index mean: 0.8719\n",
      "C-index STD: 0.0000\n"
     ]
    }
   ],
   "source": [
    "from sksurv.ensemble import ExtraSurvivalTrees\n",
    "from sksurv.metrics import concordance_index_censored\n",
    "from sklearn.inspection import permutation_importance\n",
    "\n",
    "\n",
    "n_iterations = 10 \n",
    "all_results = []\n",
    "\n",
    "for i in range(n_iterations):\n",
    "    est_model = ExtraSurvivalTrees(n_estimators = 100, random_state = i)\n",
    "    est_model.fit(X_train, y_train_structured)\n",
    "    \n",
    "    y_pred = est_model.predict(X_test)\n",
    "    c_index = concordance_index_censored(y_test_structured['All_cause_of_death'], y_test_structured['Survival_time'], y_pred)[0]\n",
    "    \n",
    "    result = permutation_importance(est_model, X_test, y_test_structured, n_repeats=10, random_state=i)\n",
    "    feature_importances = result.importances_mean\n",
    "    features = X_train.columns\n",
    "    \n",
    "    for feature, importance in zip(features, feature_importances):\n",
    "        all_results.append({\n",
    "            \"Iteration\": i+1,\n",
    "            \"C-index\": c_index,\n",
    "            \"feature\": feature,\n",
    "            \"Importance\": importance\n",
    "        })\n",
    "        \n",
    "results_df = pd.DataFrame(all_results)\n",
    "results_df.to_csv(\"C-index_FI_est_young_sclaed.csv\", index=False)\n",
    "\n",
    "mean_c_index = np.mean(c_index)\n",
    "std_c_index = np.std(c_index)\n",
    "\n",
    "print(f\"C-index mean: {mean_c_index:.4f}\")\n",
    "print(f\"C-index STD: {std_c_index:.4f}\")"
   ]
  },
  {
   "cell_type": "markdown",
   "id": "13432ecb",
   "metadata": {},
   "source": [
    "#### Penalized CoxPH"
   ]
  },
  {
   "cell_type": "code",
   "execution_count": 39,
   "id": "b846ac43",
   "metadata": {},
   "outputs": [
    {
     "name": "stdout",
     "output_type": "stream",
     "text": [
      "lasso c-index mean: 0.7386, std:0.0000\n",
      "elasticnet c-index mean: 0.7261, std:0.0000\n"
     ]
    }
   ],
   "source": [
    "# Lasso, ElasticNet\n",
    "\n",
    "from sksurv.linear_model import CoxnetSurvivalAnalysis\n",
    "from sksurv.metrics import concordance_index_censored\n",
    "from sklearn.inspection import permutation_importance\n",
    "from sklearn.preprocessing import StandardScaler\n",
    "\n",
    "X_train =pd.read_csv('/project/kc20230915003/src/X_train_young.csv')\n",
    "X_test = pd.read_csv('/project/kc20230915003/src/X_test_young.csv')\n",
    "y_train =pd.read_csv('/project/kc20230915003/src/y_train_young.csv')\n",
    "y_test = pd.read_csv('/project/kc20230915003/src/y_test_young.csv')\n",
    "\n",
    "new_order = ['All_cause_of_death', 'Survival_time']\n",
    "y_train = y_train[new_order]\n",
    "y_test = y_test[new_order]\n",
    "\n",
    "\n",
    "def convert_to_structured_array(data):\n",
    "    structured_data = np.zeros(data.shape[0], dtype = {'names': ('All_cause_of_death', 'Survival_time'), 'formats': ('bool', 'f8')})\n",
    "    structured_data['All_cause_of_death'] = data['All_cause_of_death'].astype(bool)\n",
    "    structured_data['Survival_time'] = data['Survival_time'].astype(float)\n",
    "    return structured_data\n",
    "\n",
    "y_train_structured = convert_to_structured_array(y_train)\n",
    "y_test_structured = convert_to_structured_array(y_test)\n",
    "\n",
    "\n",
    "scaler = StandardScaler()\n",
    "X_train_scaled = scaler.fit_transform(X_train)\n",
    "X_test_scaled = scaler.transform(X_test)\n",
    "\n",
    "\n",
    "X_train_scaled = pd.DataFrame(X_train_scaled, columns = X_train.columns)\n",
    "X_test_scaled = pd.DataFrame(X_test_scaled, columns = X_test.columns)\n",
    "\n",
    "\n",
    "def run_coxph(X_train, y_train, X_test, y_test, penalty, l1_ratio=None):\n",
    "    if penalty == \"lasso\":\n",
    "        model = CoxnetSurvivalAnalysis(l1_ratio=1.0, alphas=None)\n",
    "    elif penalty == \"elasticnet\":\n",
    "        model = CoxnetSurvivalAnalysis(l1_ratio=0.5, alphas=None)\n",
    "    \n",
    "    model.fit(X_train, y_train)\n",
    "    \n",
    "    y_pred = model.predict(X_test)\n",
    "    c_index = concordance_index_censored(y_test['All_cause_of_death'], y_test['Survival_time'], y_pred)[0]\n",
    "    \n",
    "    result = permutation_importance(model, X_test, y_test, n_repeats=10, random_state=0)\n",
    "    feature_importances = result.importances_mean\n",
    "    features = X_train.columns\n",
    "    \n",
    "    all_results = []\n",
    "    \n",
    "    for feature, importance in zip(features, feature_importances):\n",
    "        all_results.append({\n",
    "            \"Iteration\": i+1,\n",
    "            \"C-index\": c_index,\n",
    "            \"feature\": feature,\n",
    "            \"Importance\": importance\n",
    "        })\n",
    "    \n",
    "    return all_results, c_index\n",
    "\n",
    "lasso_results = []\n",
    "elasticnet_results = []\n",
    "n_iterations = 10\n",
    "\n",
    "for i in range(n_iterations):\n",
    "    #lasso\n",
    "    results, c_index = run_coxph(X_train_scaled, y_train_structured, X_test_scaled, y_test_structured, 'lasso')\n",
    "    lasso_results.extend(results)\n",
    "    \n",
    "    #ElasticNet\n",
    "    results, c_index = run_coxph(X_train_scaled, y_train_structured, X_test_scaled, y_test_structured, 'elasticnet', l1_ratio=0.5)\n",
    "    elasticnet_results.extend(results)\n",
    "\n",
    "lasso_df = pd.DataFrame(lasso_results)\n",
    "elasticnet_df = pd.DataFrame(elasticnet_results)\n",
    "\n",
    "lasso_df.to_csv(\"c-index_FI_coxph-L_young_2.csv\", index = False)\n",
    "elasticnet_df.to_csv('c-index_FI_coxph-E_young_2.csv', index=False)\n",
    "\n",
    "lasso_c_indices =  [result['C-index'] for result in lasso_results]\n",
    "elasticnet_c_indices = [result['C-index'] for result in elasticnet_results]\n",
    "\n",
    "mean_c_index_lasso = np.mean(lasso_c_indices)\n",
    "std_c_index_lasso = np.std(lasso_c_indices)\n",
    "\n",
    "mean_c_index_elasticnet = np.mean(elasticnet_c_indices)\n",
    "std_c_index_elasticnet = np.std(elasticnet_c_indices)\n",
    "\n",
    "print(f\"lasso c-index mean: {mean_c_index_lasso:.4f}, std:{std_c_index_lasso:.4f}\")\n",
    "print(f\"elasticnet c-index mean: {mean_c_index_elasticnet:.4f}, std:{std_c_index_elasticnet:.4f}\")"
   ]
  }
 ],
 "metadata": {
  "kernelspec": {
   "display_name": "Python 3 (ipykernel)",
   "language": "python",
   "name": "python3"
  },
  "language_info": {
   "codemirror_mode": {
    "name": "ipython",
    "version": 3
   },
   "file_extension": ".py",
   "mimetype": "text/x-python",
   "name": "python",
   "nbconvert_exporter": "python",
   "pygments_lexer": "ipython3",
   "version": "3.7.5"
  }
 },
 "nbformat": 4,
 "nbformat_minor": 5
}
